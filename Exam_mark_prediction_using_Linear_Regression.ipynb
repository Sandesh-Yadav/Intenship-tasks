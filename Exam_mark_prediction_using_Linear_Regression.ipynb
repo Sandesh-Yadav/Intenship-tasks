{
 "cells": [
  {
   "cell_type": "markdown",
   "metadata": {},
   "source": [
    "# Exam marks prediction using Simple Linear Regression\n",
    "## Author :- Sandesh Yadav"
   ]
  },
  {
   "cell_type": "markdown",
   "metadata": {
    "id": "SAFLqwkKk8rK"
   },
   "source": [
    "### *Importing Libraries*"
   ]
  },
  {
   "cell_type": "code",
   "execution_count": 59,
   "metadata": {
    "id": "EgF2lvr_jzVL"
   },
   "outputs": [],
   "source": [
    "import pandas as pd\n",
    "import numpy as np\n",
    "from sklearn.linear_model import LinearRegression\n",
    "from sklearn.model_selection import train_test_split, KFold\n",
    "import matplotlib.pyplot as plt"
   ]
  },
  {
   "cell_type": "markdown",
   "metadata": {
    "id": "XWe_7j6UjxRj"
   },
   "source": [
    "### *Load Dataset from Local Directory*"
   ]
  },
  {
   "cell_type": "code",
   "execution_count": 60,
   "metadata": {
    "id": "vKrHCJk_jwfJ"
   },
   "outputs": [],
   "source": [
    "dataset = pd.read_csv(r\"C:\\Users\\Lenovo\\Downloads\\data.csv\")"
   ]
  },
  {
   "cell_type": "markdown",
   "metadata": {
    "id": "-DdkIy1ZnDfA"
   },
   "source": [
    "### *Summarize the dataset*"
   ]
  },
  {
   "cell_type": "code",
   "execution_count": 61,
   "metadata": {
    "id": "OlElQViRnGFp"
   },
   "outputs": [
    {
     "name": "stdout",
     "output_type": "stream",
     "text": [
      "(25, 2)\n",
      "   Hours  Scores\n",
      "0    2.5      21\n",
      "1    5.1      47\n",
      "2    3.2      27\n",
      "3    8.5      75\n",
      "4    3.5      30\n"
     ]
    }
   ],
   "source": [
    "print(dataset.shape)\n",
    "print(dataset.head(5))"
   ]
  },
  {
   "cell_type": "markdown",
   "metadata": {
    "id": "-Zb9xIa-kOx5"
   },
   "source": [
    "### *Finding & Removing NA values from our Features X*"
   ]
  },
  {
   "cell_type": "code",
   "execution_count": 62,
   "metadata": {
    "id": "UwyBQ5nZkTpf"
   },
   "outputs": [
    {
     "data": {
      "text/plain": [
       "Index([], dtype='object')"
      ]
     },
     "execution_count": 62,
     "metadata": {},
     "output_type": "execute_result"
    }
   ],
   "source": [
    "dataset.columns[dataset.isna().any()]"
   ]
  },
  {
   "cell_type": "code",
   "execution_count": 63,
   "metadata": {
    "id": "8LxSw9aHlJTC"
   },
   "outputs": [],
   "source": [
    "#dataset.hours = dataset.hours.fillna(dataset.hours.mean())"
   ]
  },
  {
   "cell_type": "markdown",
   "metadata": {
    "id": "JRyfB6prpJDP"
   },
   "source": [
    "### *Segregate Dataset into Input X & Output Y*"
   ]
  },
  {
   "cell_type": "code",
   "execution_count": 64,
   "metadata": {
    "id": "x9dQcTohpK1X"
   },
   "outputs": [
    {
     "name": "stdout",
     "output_type": "stream",
     "text": [
      "(25, 1)\n"
     ]
    },
    {
     "data": {
      "text/plain": [
       "array([[2.5],\n",
       "       [5.1],\n",
       "       [3.2],\n",
       "       [8.5],\n",
       "       [3.5],\n",
       "       [1.5],\n",
       "       [9.2],\n",
       "       [5.5],\n",
       "       [8.3],\n",
       "       [2.7],\n",
       "       [7.7],\n",
       "       [5.9],\n",
       "       [4.5],\n",
       "       [3.3],\n",
       "       [1.1],\n",
       "       [8.9],\n",
       "       [2.5],\n",
       "       [1.9],\n",
       "       [6.1],\n",
       "       [7.4],\n",
       "       [2.7],\n",
       "       [4.8],\n",
       "       [3.8],\n",
       "       [6.9],\n",
       "       [7.8]])"
      ]
     },
     "execution_count": 64,
     "metadata": {},
     "output_type": "execute_result"
    }
   ],
   "source": [
    "X = dataset.iloc[:, :-1].values\n",
    "print(X.shape)\n",
    "X"
   ]
  },
  {
   "cell_type": "code",
   "execution_count": 65,
   "metadata": {
    "id": "SqxVaBO0pf1W"
   },
   "outputs": [
    {
     "data": {
      "text/plain": [
       "array([21, 47, 27, 75, 30, 20, 88, 60, 81, 25, 85, 62, 41, 42, 17, 95, 30,\n",
       "       24, 67, 69, 30, 54, 35, 76, 86], dtype=int64)"
      ]
     },
     "execution_count": 65,
     "metadata": {},
     "output_type": "execute_result"
    }
   ],
   "source": [
    "Y = dataset.iloc[:, -1].values\n",
    "Y"
   ]
  },
  {
   "cell_type": "markdown",
   "metadata": {
    "id": "KsDoGjjbpmjk"
   },
   "source": [
    "### *Training Dataset using Linear Regression and evaluting using Kfold cross validation*"
   ]
  },
  {
   "cell_type": "code",
   "execution_count": 66,
   "metadata": {
    "id": "nKmEySI1poV_"
   },
   "outputs": [
    {
     "name": "stdout",
     "output_type": "stream",
     "text": [
      "Net accuracy of the model is : 89.0182177417953\n"
     ]
    }
   ],
   "source": [
    "kf = KFold(n_splits =10, shuffle = True, random_state = 70)\n",
    "splits = list(kf.split(X))\n",
    "scores = []\n",
    "for i in range(0,10):\n",
    "    train_indices, test_indices = splits[i]\n",
    "    X_train = X[train_indices]\n",
    "    X_test = X[test_indices]\n",
    "    y_train = Y[train_indices]\n",
    "    y_test = Y[test_indices]\n",
    "    model = LinearRegression(normalize = True)\n",
    "    model.fit(X_train,y_train)\n",
    "    scores.append((model.score(X_test, y_test)))\n",
    "\n",
    "print(\"Net accuracy of the model is :\", np.mean(scores)*100)"
   ]
  },
  {
   "cell_type": "code",
   "execution_count": 67,
   "metadata": {},
   "outputs": [
    {
     "data": {
      "image/png": "[encoded data removed]",
      "text/plain": [
       "<Figure size 432x288 with 1 Axes>"
      ]
     },
     "metadata": {
      "needs_background": "light"
     },
     "output_type": "display_data"
    }
   ],
   "source": [
    "line = model.coef_*X+model.intercept_\n",
    "plt.scatter(X,Y)\n",
    "plt.plot(X,line,color = 'r')\n",
    "plt.title(\"The best fit line for given data\")\n",
    "plt.xlabel(\"Study Hours\")\n",
    "plt.ylabel(\"Marks obtained\")\n",
    "plt.show()"
   ]
  },
  {
   "cell_type": "markdown",
   "metadata": {
    "id": "n-UeFqpGpw9p"
   },
   "source": [
    "### *Predicted score for student's study hours of custom values*"
   ]
  },
  {
   "cell_type": "code",
   "execution_count": 68,
   "metadata": {
    "id": "Ollo3wTcpyKQ"
   },
   "outputs": [
    {
     "name": "stdout",
     "output_type": "stream",
     "text": [
      "93\n"
     ]
    }
   ],
   "source": [
    "a= [[9.25]]\n",
    "PredictedmodelResult = model.predict(a)\n",
    "print(int(PredictedmodelResult))"
   ]
  },
  {
   "cell_type": "markdown",
   "metadata": {},
   "source": [
    "### If a student studies for 9.25hrs, then his/her predicted score would be 93 marks. ###"
   ]
  }
 ],
 "metadata": {
  "colab": {
   "collapsed_sections": [],
   "name": "12 | Exam mark prediction using Linear Regression.ipynb",
   "provenance": []
  },
  "kernelspec": {
   "display_name": "Python 3",
   "language": "python",
   "name": "python3"
  },
  "language_info": {
   "codemirror_mode": {
    "name": "ipython",
    "version": 3
   },
   "file_extension": ".py",
   "mimetype": "text/x-python",
   "name": "python",
   "nbconvert_exporter": "python",
   "pygments_lexer": "ipython3",
   "version": "3.8.5"
  }
 },
 "nbformat": 4,
 "nbformat_minor": 1
}
